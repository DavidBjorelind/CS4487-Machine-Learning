{
 "cells": [
  {
   "cell_type": "markdown",
   "metadata": {},
   "source": [
    "**Name:** \\_\\_\\_\\_\\_\n",
    "\n",
    "**EID:** \\_\\_\\_\\_\\_\n",
    "\n",
    "**Kaggle Team Name:** \\_\\_\\_\\_\\_"
   ]
  },
  {
   "cell_type": "markdown",
   "metadata": {},
   "source": [
    "# CS4487 - Assignment 1 - YouTube Spam Classifier"
   ]
  },
  {
   "cell_type": "markdown",
   "metadata": {},
   "source": [
    "## Final submission\n",
    "In this file, put the code that generates your final Kaggle submission. It will be used to verify that your Kaggle submission is reproducible."
   ]
  },
  {
   "cell_type": "code",
   "execution_count": null,
   "metadata": {},
   "outputs": [],
   "source": [
    "%matplotlib inline\n",
    "import IPython.core.display         \n",
    "# setup output image format (Chrome works best)\n",
    "IPython.core.display.set_matplotlib_formats(\"svg\")\n",
    "import matplotlib.pyplot as plt\n",
    "import matplotlib\n",
    "from numpy import *\n",
    "from sklearn import *\n",
    "from scipy import stats\n",
    "random.seed(100)\n",
    "import csv\n",
    "import pandas as pd"
   ]
  },
  {
   "cell_type": "code",
   "execution_count": null,
   "metadata": {},
   "outputs": [],
   "source": [
    "# function to write a CSV file for Kaggle submission\n",
    "def write_csv_kaggle_sub(fname, Y):\n",
    "    # fname = file name\n",
    "    # Y is a list/array with class entries\n",
    "    with open(fname, 'w') as f:\n",
    "        writer = csv.writer(f)\n",
    "\n",
    "        # header\n",
    "        tmp = ['Id', 'Prediction']            \n",
    "        writer.writerow(tmp)\n",
    "    \n",
    "        # add ID numbers for each Y, and usage if necessary\n",
    "        for (i,y) in enumerate(Y):\n",
    "            tmp2 = [(i+1), y]\n",
    "            writer.writerow(tmp2)\n",
    "        \n",
    "        f.close()"
   ]
  },
  {
   "cell_type": "code",
   "execution_count": null,
   "metadata": {},
   "outputs": [],
   "source": [
    "# load the data with pandas\n",
    "traindf = pd.read_csv('youtube_spam_train.csv')\n",
    "testdf  = pd.read_csv('youtube_spam_test.csv')\n",
    "\n",
    "# extract data into a dictionary\n",
    "\n",
    "train = {}                                 ### training data\n",
    "train['txt']   = list(traindf['TEXT'])     # comment text\n",
    "train['class'] = list(traindf['CLASS'])    # class (0=not spam; 1=spam)\n",
    "train['author'] = list(traindf['AUTHOR'])  # author name\n",
    "train['video']  = list(traindf['VIDEO'])   # video ID\n",
    "train['date']   = list(traindf['DATE'])    # date of the comment\n",
    "\n",
    "test = {}                                  ### testing data\n",
    "test['txt']   = list(testdf['TEXT'])\n",
    "test['author'] = list(testdf['AUTHOR'])\n",
    "test['video']  = list(testdf['VIDEO'])\n",
    "test['date']    = list(testdf['DATE'])\n",
    "\n",
    "print(len(train['txt']))\n",
    "print(len(test['txt']))"
   ]
  },
  {
   "cell_type": "code",
   "execution_count": null,
   "metadata": {},
   "outputs": [],
   "source": []
  },
  {
   "cell_type": "code",
   "execution_count": null,
   "metadata": {},
   "outputs": [],
   "source": [
    "### INSERT YOUR CODE HERE"
   ]
  },
  {
   "cell_type": "code",
   "execution_count": null,
   "metadata": {},
   "outputs": [],
   "source": []
  },
  {
   "cell_type": "code",
   "execution_count": null,
   "metadata": {},
   "outputs": [],
   "source": []
  },
  {
   "cell_type": "code",
   "execution_count": null,
   "metadata": {},
   "outputs": [],
   "source": []
  }
 ],
 "metadata": {
  "anaconda-cloud": {},
  "kernelspec": {
   "display_name": "Python 3",
   "language": "python",
   "name": "python3"
  },
  "language_info": {
   "codemirror_mode": {
    "name": "ipython",
    "version": 3
   },
   "file_extension": ".py",
   "mimetype": "text/x-python",
   "name": "python",
   "nbconvert_exporter": "python",
   "pygments_lexer": "ipython3",
   "version": "3.6.5"
  }
 },
 "nbformat": 4,
 "nbformat_minor": 1
}
