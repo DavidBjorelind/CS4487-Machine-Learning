{
 "cells": [
  {
   "cell_type": "markdown",
   "metadata": {},
   "source": [
    "**Name:** David Björelind\n",
    "\n",
    "**EID:** 40107147\n",
    "\n",
    "**Kaggle Team Name:** \\_\\_\\_\\_\\_"
   ]
  },
  {
   "cell_type": "markdown",
   "metadata": {},
   "source": [
    "# CS4487 - Assignment 1 - YouTube Spam Classifier"
   ]
  },
  {
   "cell_type": "markdown",
   "metadata": {},
   "source": [
    "## Final submission\n",
    "In this file, put the code that generates your final Kaggle submission. It will be used to verify that your Kaggle submission is reproducible."
   ]
  },
  {
   "cell_type": "code",
   "execution_count": 3,
   "metadata": {},
   "outputs": [
    {
     "name": "stderr",
     "output_type": "stream",
     "text": [
      "/Users/davidbjorelind/anaconda3/lib/python3.6/site-packages/sklearn/cross_validation.py:41: DeprecationWarning: This module was deprecated in version 0.18 in favor of the model_selection module into which all the refactored classes and functions are moved. Also note that the interface of the new CV iterators are different from that of this module. This module will be removed in 0.20.\n",
      "  \"This module will be removed in 0.20.\", DeprecationWarning)\n",
      "/Users/davidbjorelind/anaconda3/lib/python3.6/site-packages/sklearn/grid_search.py:42: DeprecationWarning: This module was deprecated in version 0.18 in favor of the model_selection module into which all the refactored classes and functions are moved. This module will be removed in 0.20.\n",
      "  DeprecationWarning)\n",
      "/Users/davidbjorelind/anaconda3/lib/python3.6/site-packages/sklearn/learning_curve.py:22: DeprecationWarning: This module was deprecated in version 0.18 in favor of the model_selection module into which all the functions are moved. This module will be removed in 0.20\n",
      "  DeprecationWarning)\n"
     ]
    }
   ],
   "source": [
    "%matplotlib inline\n",
    "import IPython.core.display         \n",
    "# setup output image format (Chrome works best)\n",
    "IPython.core.display.set_matplotlib_formats(\"svg\")\n",
    "import matplotlib.pyplot as plt\n",
    "import matplotlib\n",
    "from numpy import *\n",
    "from sklearn import *\n",
    "from scipy import stats\n",
    "random.seed(100)\n",
    "import csv\n",
    "import pandas as pd"
   ]
  },
  {
   "cell_type": "code",
   "execution_count": 4,
   "metadata": {},
   "outputs": [],
   "source": [
    "# function to write a CSV file for Kaggle submission\n",
    "def write_csv_kaggle_sub(fname, Y):\n",
    "    # fname = file name\n",
    "    # Y is a list/array with class entries\n",
    "    with open(fname, 'w') as f:\n",
    "        writer = csv.writer(f)\n",
    "\n",
    "        # header\n",
    "        tmp = ['Id', 'Prediction']            \n",
    "        writer.writerow(tmp)\n",
    "    \n",
    "        # add ID numbers for each Y, and usage if necessary\n",
    "        for (i,y) in enumerate(Y):\n",
    "            tmp2 = [(i+1), y]\n",
    "            writer.writerow(tmp2)\n",
    "        \n",
    "        f.close()"
   ]
  },
  {
   "cell_type": "code",
   "execution_count": 5,
   "metadata": {},
   "outputs": [
    {
     "name": "stdout",
     "output_type": "stream",
     "text": [
      "1000\n",
      "956\n"
     ]
    }
   ],
   "source": [
    "# load the data with pandas\n",
    "traindf = pd.read_csv('youtube_spam_train.csv')\n",
    "testdf  = pd.read_csv('youtube_spam_test.csv')\n",
    "\n",
    "# extract data into a dictionary\n",
    "\n",
    "train = {}                                 ### training data\n",
    "train['txt']   = list(traindf['TEXT'])     # comment text\n",
    "train['class'] = list(traindf['CLASS'])    # class (0=not spam; 1=spam)\n",
    "train['author'] = list(traindf['AUTHOR'])  # author name\n",
    "train['video']  = list(traindf['VIDEO'])   # video ID\n",
    "train['date']   = list(traindf['DATE'])    # date of the comment\n",
    "\n",
    "test = {}                                  ### testing data\n",
    "test['txt']   = list(testdf['TEXT'])\n",
    "test['author'] = list(testdf['AUTHOR'])\n",
    "test['video']  = list(testdf['VIDEO'])\n",
    "test['date']    = list(testdf['DATE'])\n",
    "\n",
    "print(len(train['txt']))\n",
    "print(len(test['txt']))"
   ]
  },
  {
   "cell_type": "code",
   "execution_count": null,
   "metadata": {},
   "outputs": [],
   "source": []
  },
  {
   "cell_type": "code",
   "execution_count": 8,
   "metadata": {},
   "outputs": [],
   "source": [
    "### INSERT YOUR CODE HERE\n",
    "stopwords = ['english', 'll', 'of', 'a']\n",
    "cntvect = feature_extraction.text.CountVectorizer(stop_words = stopwords, max_features=250)\n",
    "\n",
    "trainX = cntvect.fit_transform(train['txt'])\n",
    "trainY = train['class']\n",
    "\n",
    "# calculate vectors for the test data\n",
    "testX  = cntvect.transform(test['txt'])\n",
    "\n",
    "lastModel = ensemble.RandomForestClassifier(max_features = 50, n_estimators = 50, random_state=4487, n_jobs=-1)\n",
    "lastModel.fit(trainX, trainY)\n",
    "\n",
    "predY = lastModel.predict(testX)\n",
    "\n",
    "write_csv_kaggle_sub(\"david_bjorelind_submission.csv\", predY)"
   ]
  },
  {
   "cell_type": "code",
   "execution_count": 9,
   "metadata": {},
   "outputs": [
    {
     "name": "stdout",
     "output_type": "stream",
     "text": [
      "553    403\n",
      "ratio 0s:  0.5784518828451883\n",
      "ratio 1s:  0.4215481171548117\n"
     ]
    }
   ],
   "source": [
    "count0s = 0\n",
    "count1s = 0\n",
    "\n",
    "for n in range(0, len(predY)):\n",
    "    if (predY[n] == 0):\n",
    "        count0s = count0s+1\n",
    "    else:\n",
    "        count1s = count1s+1\n",
    "\n",
    "print(count0s, \"  \", count1s)\n",
    "print(\"ratio 0s: \", count0s/(count0s+count1s))\n",
    "print(\"ratio 1s: \", count1s/(count0s+count1s))"
   ]
  },
  {
   "cell_type": "code",
   "execution_count": null,
   "metadata": {},
   "outputs": [],
   "source": []
  },
  {
   "cell_type": "code",
   "execution_count": null,
   "metadata": {},
   "outputs": [],
   "source": []
  }
 ],
 "metadata": {
  "anaconda-cloud": {},
  "kernelspec": {
   "display_name": "Python 3",
   "language": "python",
   "name": "python3"
  },
  "language_info": {
   "codemirror_mode": {
    "name": "ipython",
    "version": 3
   },
   "file_extension": ".py",
   "mimetype": "text/x-python",
   "name": "python",
   "nbconvert_exporter": "python",
   "pygments_lexer": "ipython3",
   "version": "3.6.5"
  }
 },
 "nbformat": 4,
 "nbformat_minor": 1
}
